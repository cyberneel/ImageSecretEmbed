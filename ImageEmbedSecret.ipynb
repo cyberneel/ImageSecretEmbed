{
  "nbformat": 4,
  "nbformat_minor": 0,
  "metadata": {
    "colab": {
      "provenance": [],
      "authorship_tag": "ABX9TyMJDFNf5cmhabw/+CGjCLaJ",
      "include_colab_link": true
    },
    "kernelspec": {
      "name": "python3",
      "display_name": "Python 3"
    },
    "language_info": {
      "name": "python"
    }
  },
  "cells": [
    {
      "cell_type": "markdown",
      "metadata": {
        "id": "view-in-github",
        "colab_type": "text"
      },
      "source": [
        "<a href=\"https://colab.research.google.com/github/cyberneel/ImageSecretEmbed/blob/main/ImageEmbedSecret.ipynb\" target=\"_parent\"><img src=\"https://colab.research.google.com/assets/colab-badge.svg\" alt=\"Open In Colab\"/></a>"
      ]
    },
    {
      "cell_type": "markdown",
      "source": [
        "# Install Libraries"
      ],
      "metadata": {
        "id": "NuSbmnfnBvt3"
      }
    },
    {
      "cell_type": "code",
      "source": [
        "!pip install pillow numpy"
      ],
      "metadata": {
        "colab": {
          "base_uri": "https://localhost:8080/"
        },
        "id": "osEI-oVmB2Cj",
        "outputId": "23f25bb6-aedf-41ed-a8ce-bbf7b3f29488"
      },
      "execution_count": null,
      "outputs": [
        {
          "output_type": "stream",
          "name": "stdout",
          "text": [
            "Requirement already satisfied: pillow in /usr/local/lib/python3.10/dist-packages (9.4.0)\n",
            "Requirement already satisfied: numpy in /usr/local/lib/python3.10/dist-packages (1.25.2)\n"
          ]
        }
      ]
    },
    {
      "cell_type": "markdown",
      "source": [
        "# Main Code"
      ],
      "metadata": {
        "id": "nA4YdW7_B3u1"
      }
    },
    {
      "cell_type": "code",
      "source": [
        "from PIL import Image\n",
        "import numpy as np\n",
        "import io\n",
        "from google.colab import files\n",
        "\n",
        "def ToBinary(text):\n",
        "    binary = ''.join(format(ord(char), '08b') for char in text)\n",
        "    return binary\n",
        "\n",
        "def ToText(binary):\n",
        "    characters = [binary[i:i+8] for i in range(0, len(binary), 8)]\n",
        "    textForm = ''.join([chr(int(char, 2)) for char in characters])\n",
        "    return textForm\n",
        "\n",
        "# Used to test proper conversion\n",
        "print(ToBinary(\"Hello\"))\n",
        "print(ToText(ToBinary(\"Hello\")))"
      ],
      "metadata": {
        "colab": {
          "base_uri": "https://localhost:8080/"
        },
        "id": "KzdNtdXeB3UR",
        "outputId": "feb8f6c2-1846-4443-8e42-40da708bb1c7"
      },
      "execution_count": null,
      "outputs": [
        {
          "output_type": "stream",
          "name": "stdout",
          "text": [
            "0100100001100101011011000110110001101111\n",
            "Hello\n"
          ]
        }
      ]
    },
    {
      "cell_type": "code",
      "source": [
        "def EncodeIntoImage(imagePath, text):\n",
        "    image = Image.open(imagePath)\n",
        "    textBinary = ToBinary(text) + '1111111111111110'  # This will help find the end\n",
        "    binTextLen = len(textBinary)\n",
        "\n",
        "    # Turn image into data with numpy\n",
        "    imageData = np.array(image)\n",
        "    height, width, colorChannels = imageData.shape # simialr to pytorch\n",
        "\n",
        "    # Now loop through the binary\n",
        "    dataIndex = 0\n",
        "    for y in range(height):\n",
        "      for x in range(width):\n",
        "        for c in range(3): # represents rgb\n",
        "          if (dataIndex < binTextLen):\n",
        "            imageData[y, x, c] = int(textBinary[dataIndex])\n",
        "            dataIndex += 1\n",
        "\n",
        "    TextEncodedImage = Image.fromarray(imageData)\n",
        "    return TextEncodedImage\n"
      ],
      "metadata": {
        "id": "FJPrBonyMO6o"
      },
      "execution_count": null,
      "outputs": []
    },
    {
      "cell_type": "code",
      "source": [
        "# past image path from sidebar and text, then encode\n",
        "imagePath = \"/content/lp_image.jpeg\"\n",
        "\n",
        "text = input(\"Enter the secret to encode into the image: \")\n",
        "encoded_img = EncodeIntoImage(imagePath, text)\n",
        "encoded_img.save('secret.png')"
      ],
      "metadata": {
        "colab": {
          "base_uri": "https://localhost:8080/"
        },
        "id": "UzXqbfZLbOGP",
        "outputId": "08cc0402-26ef-4508-9fad-8d4589d660fb"
      },
      "execution_count": 13,
      "outputs": [
        {
          "name": "stdout",
          "output_type": "stream",
          "text": [
            "Enter the text to encode into the image: /content/lp_image.jpeg /content/lp_image.jpeg /content/lp_image.jpeg /content/lp_image.jpeg /content/lp_image.jpeg /content/lp_image.jpeg /content/lp_image.jpeg /content/lp_image.jpeg /content/lp_image.jpeg /content/lp_image.jpeg /content/lp_image.jpeg\n"
          ]
        }
      ]
    }
  ]
}