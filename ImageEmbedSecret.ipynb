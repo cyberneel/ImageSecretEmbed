{
  "nbformat": 4,
  "nbformat_minor": 0,
  "metadata": {
    "colab": {
      "provenance": [],
      "authorship_tag": "ABX9TyO3QYavZYxrS4d09Of6S6/w",
      "include_colab_link": true
    },
    "kernelspec": {
      "name": "python3",
      "display_name": "Python 3"
    },
    "language_info": {
      "name": "python"
    }
  },
  "cells": [
    {
      "cell_type": "markdown",
      "metadata": {
        "id": "view-in-github",
        "colab_type": "text"
      },
      "source": [
        "<a href=\"https://colab.research.google.com/github/cyberneel/ImageSecretEmbed/blob/main/ImageEmbedSecret.ipynb\" target=\"_parent\"><img src=\"https://colab.research.google.com/assets/colab-badge.svg\" alt=\"Open In Colab\"/></a>"
      ]
    },
    {
      "cell_type": "markdown",
      "source": [
        "# Install Libraries"
      ],
      "metadata": {
        "id": "NuSbmnfnBvt3"
      }
    },
    {
      "cell_type": "code",
      "source": [
        "!pip install pillow numpy"
      ],
      "metadata": {
        "colab": {
          "base_uri": "https://localhost:8080/"
        },
        "id": "osEI-oVmB2Cj",
        "outputId": "2a3a569a-5bfb-4aaf-d4fc-8e32363b2fb4"
      },
      "execution_count": null,
      "outputs": [
        {
          "output_type": "stream",
          "name": "stdout",
          "text": [
            "Requirement already satisfied: pillow in /usr/local/lib/python3.10/dist-packages (9.4.0)\n",
            "Requirement already satisfied: numpy in /usr/local/lib/python3.10/dist-packages (1.25.2)\n"
          ]
        }
      ]
    },
    {
      "cell_type": "markdown",
      "source": [
        "# Main Code"
      ],
      "metadata": {
        "id": "nA4YdW7_B3u1"
      }
    },
    {
      "cell_type": "code",
      "source": [
        "from PIL import Image\n",
        "import numpy as np\n",
        "import io\n",
        "from google.colab import files\n",
        "\n",
        "def ToBinary(text):\n",
        "    binary = ''.join(format(ord(char), '08b') for char in text)\n",
        "    return binary\n",
        "\n",
        "def ToText(binary):\n",
        "    characters = [binary[i:i+8] for i in range(0, len(binary), 8)]\n",
        "    textForm = ''.join([chr(int(char, 2)) for char in characters])\n",
        "    return textForm\n",
        "\n",
        "# Used to test proper conversion\n",
        "print(ToBinary(\"Hello There\"))\n",
        "print(ToText(ToBinary(\"Hello There\")))"
      ],
      "metadata": {
        "colab": {
          "base_uri": "https://localhost:8080/"
        },
        "id": "KzdNtdXeB3UR",
        "outputId": "6c17266a-be74-4ff6-a049-64b9b85f1033"
      },
      "execution_count": null,
      "outputs": [
        {
          "output_type": "stream",
          "name": "stdout",
          "text": [
            "0100100001100101011011000110110001101111001000000101010001101000011001010111001001100101\n",
            "Hello There\n"
          ]
        }
      ]
    },
    {
      "cell_type": "code",
      "source": [
        "def EncodeIntoImage(imagePath, text):\n",
        "    image = Image.open(imagePath)\n",
        "    textBinary = ToBinary(text) + '1111111111111110'  # This will help find the end\n",
        "    binTextLen = len(textBinary)\n",
        "\n",
        "    # Turn image into data with numpy\n",
        "    imageData = np.array(image)\n",
        "    height, width, colorChannels = imageData.shape # simialr to pytorch\n",
        "\n",
        "    if (height * width * 3) > binTextLen:\n",
        "      print(\"Image too small to store text!!!\")\n",
        "      return\n",
        "\n",
        "    # make all pixels even\n",
        "    for y in range(height):\n",
        "      for x in range(width):\n",
        "        for c in range(3): # represents rgb\n",
        "          if (imageData[y, x, c] % 2 != 0):\n",
        "            imageData[y, x, c] -= 1\n",
        "\n",
        "    # Now loop through the binary\n",
        "    dataIndex = 0\n",
        "    for y in range(height):\n",
        "      for x in range(width):\n",
        "        for c in range(3): # represents rgb\n",
        "          if (dataIndex < binTextLen):\n",
        "            imageData[y, x, c] += int(textBinary[dataIndex])\n",
        "            dataIndex += 1\n",
        "\n",
        "    TextEncodedImage = Image.fromarray(imageData)\n",
        "    return TextEncodedImage\n"
      ],
      "metadata": {
        "id": "FJPrBonyMO6o"
      },
      "execution_count": null,
      "outputs": []
    },
    {
      "cell_type": "code",
      "source": [
        "def DecodeFromImage(imagePath):\n",
        "  image = Image.open(imagePath)\n",
        "\n",
        "  # Turn image. into data\n",
        "  imageData = np.array(image)\n",
        "  height, width, colorChannels = imageData.shape\n",
        "  BinaryFromImage = \"\"\n",
        "\n",
        "  # pixels loop\n",
        "  for y in range(height):\n",
        "    for x in range(width):\n",
        "      for c in range(3):\n",
        "        BinaryFromImage += str(imageData[y, x, c] % 2)\n",
        "\n",
        "  return ToText(BinaryFromImage[:BinaryFromImage.find(\"1111111111111110\")]) # Use delimeter to find and slice"
      ],
      "metadata": {
        "id": "7W61lIwWgtZt"
      },
      "execution_count": null,
      "outputs": []
    },
    {
      "cell_type": "code",
      "source": [
        "# past image path from sidebar and text, then encode\n",
        "imagePath = \"/content/lp_image.jpeg\" #@param {type:\"string\"}\n",
        "\n",
        "text = \"SECRET\" #@param {type:\"string\"}\n",
        "encoded_img = EncodeIntoImage(imagePath, text)\n",
        "encoded_img.save('secret.png')"
      ],
      "metadata": {
        "colab": {
          "base_uri": "https://localhost:8080/",
          "height": 199
        },
        "id": "UzXqbfZLbOGP",
        "outputId": "ebf49027-e628-41e5-d2fa-95550ba83663"
      },
      "execution_count": 1,
      "outputs": [
        {
          "output_type": "error",
          "ename": "NameError",
          "evalue": "name 'EncodeIntoImage' is not defined",
          "traceback": [
            "\u001b[0;31m---------------------------------------------------------------------------\u001b[0m",
            "\u001b[0;31mNameError\u001b[0m                                 Traceback (most recent call last)",
            "\u001b[0;32m<ipython-input-1-a291d57f84b2>\u001b[0m in \u001b[0;36m<cell line: 5>\u001b[0;34m()\u001b[0m\n\u001b[1;32m      3\u001b[0m \u001b[0;34m\u001b[0m\u001b[0m\n\u001b[1;32m      4\u001b[0m \u001b[0mtext\u001b[0m \u001b[0;34m=\u001b[0m \u001b[0;34m\"SECRET\"\u001b[0m \u001b[0;31m#@param {type:\"string\"}\u001b[0m\u001b[0;34m\u001b[0m\u001b[0;34m\u001b[0m\u001b[0m\n\u001b[0;32m----> 5\u001b[0;31m \u001b[0mencoded_img\u001b[0m \u001b[0;34m=\u001b[0m \u001b[0mEncodeIntoImage\u001b[0m\u001b[0;34m(\u001b[0m\u001b[0mimagePath\u001b[0m\u001b[0;34m,\u001b[0m \u001b[0mtext\u001b[0m\u001b[0;34m)\u001b[0m\u001b[0;34m\u001b[0m\u001b[0;34m\u001b[0m\u001b[0m\n\u001b[0m\u001b[1;32m      6\u001b[0m \u001b[0mencoded_img\u001b[0m\u001b[0;34m.\u001b[0m\u001b[0msave\u001b[0m\u001b[0;34m(\u001b[0m\u001b[0;34m'secret.png'\u001b[0m\u001b[0;34m)\u001b[0m\u001b[0;34m\u001b[0m\u001b[0;34m\u001b[0m\u001b[0m\n",
            "\u001b[0;31mNameError\u001b[0m: name 'EncodeIntoImage' is not defined"
          ]
        }
      ]
    },
    {
      "cell_type": "code",
      "source": [
        "# Decode the image\n",
        "\n",
        "DecodeFromImage(\"/content/secret.png\")"
      ],
      "metadata": {
        "id": "y9-iJlY4lKiG"
      },
      "execution_count": null,
      "outputs": []
    }
  ]
}