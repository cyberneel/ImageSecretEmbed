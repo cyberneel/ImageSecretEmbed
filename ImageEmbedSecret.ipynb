{
  "nbformat": 4,
  "nbformat_minor": 0,
  "metadata": {
    "colab": {
      "provenance": [],
      "authorship_tag": "ABX9TyMGiKJB1KE1S0o3oreShgqs",
      "include_colab_link": true
    },
    "kernelspec": {
      "name": "python3",
      "display_name": "Python 3"
    },
    "language_info": {
      "name": "python"
    }
  },
  "cells": [
    {
      "cell_type": "markdown",
      "metadata": {
        "id": "view-in-github",
        "colab_type": "text"
      },
      "source": [
        "<a href=\"https://colab.research.google.com/github/cyberneel/ImageSecretEmbed/blob/main/ImageEmbedSecret.ipynb\" target=\"_parent\"><img src=\"https://colab.research.google.com/assets/colab-badge.svg\" alt=\"Open In Colab\"/></a>"
      ]
    },
    {
      "cell_type": "markdown",
      "source": [
        "# Install Libraries"
      ],
      "metadata": {
        "id": "NuSbmnfnBvt3"
      }
    },
    {
      "cell_type": "code",
      "source": [
        "!pip install pillow numpy"
      ],
      "metadata": {
        "colab": {
          "base_uri": "https://localhost:8080/"
        },
        "id": "osEI-oVmB2Cj",
        "outputId": "d0abd74a-2c0f-41dd-8169-0199ced3fbc6"
      },
      "execution_count": 7,
      "outputs": [
        {
          "output_type": "stream",
          "name": "stdout",
          "text": [
            "Requirement already satisfied: pillow in /usr/local/lib/python3.10/dist-packages (9.4.0)\n",
            "Requirement already satisfied: numpy in /usr/local/lib/python3.10/dist-packages (1.25.2)\n"
          ]
        }
      ]
    },
    {
      "cell_type": "markdown",
      "source": [
        "# Main Code"
      ],
      "metadata": {
        "id": "nA4YdW7_B3u1"
      }
    },
    {
      "cell_type": "code",
      "source": [
        "from PIL import Image\n",
        "import numpy as np\n",
        "import io\n",
        "from google.colab import files\n",
        "\n",
        "def ToBinary(text):\n",
        "    binary = ''.join(format(ord(char), '08b') for char in text)\n",
        "    return binary\n",
        "\n",
        "def ToText(binary):\n",
        "    characters = [binary[i:i+8] for i in range(0, len(binary), 8)]\n",
        "    textForm = ''.join([chr(int(char, 2)) for char in characters])\n",
        "    return textForm\n",
        "\n",
        "# Used to test proper conversion\n",
        "print(ToBinary(\"Hello\"))\n",
        "print(ToText(ToBinary(\"Hello\")))"
      ],
      "metadata": {
        "colab": {
          "base_uri": "https://localhost:8080/"
        },
        "id": "KzdNtdXeB3UR",
        "outputId": "6a1eca99-ce75-445f-b019-a0cba3b4b68a"
      },
      "execution_count": 8,
      "outputs": [
        {
          "output_type": "stream",
          "name": "stdout",
          "text": [
            "0100100001100101011011000110110001101111\n",
            "Hello\n"
          ]
        }
      ]
    },
    {
      "cell_type": "code",
      "source": [
        "def EncodeIntoImage(imagePath, text):\n",
        "    image = Image.open(imagePath)\n",
        "    textBinary = ToBinary(text) + '1111111111111110'  # This will help find the end\n",
        "    binTextLen = len(textBinary)\n",
        "\n",
        "    # Turn image into data with numpy\n",
        "    imageData = np.array(image)\n",
        "    height, width, colorChannels = imageData.shape # simialr to pytorch\n",
        "\n",
        "    # make all pixels even\n",
        "    for y in range(height):\n",
        "      for x in range(width):\n",
        "        for c in range(3): # represents rgb\n",
        "          if (imageData[y, x, c] % 2 != 0):\n",
        "            imageData[y, x, c] += 1\n",
        "\n",
        "    # Now loop through the binary\n",
        "    dataIndex = 0\n",
        "    for y in range(height):\n",
        "      for x in range(width):\n",
        "        for c in range(3): # represents rgb\n",
        "          if (dataIndex < binTextLen):\n",
        "            imageData[y, x, c] = int(textBinary[dataIndex])\n",
        "            dataIndex += 1\n",
        "\n",
        "    TextEncodedImage = Image.fromarray(imageData)\n",
        "    return TextEncodedImage\n"
      ],
      "metadata": {
        "id": "FJPrBonyMO6o"
      },
      "execution_count": 9,
      "outputs": []
    },
    {
      "cell_type": "code",
      "source": [
        "def DecodeFromImage(imagePath):\n",
        "  image = Image.open(imagePath)\n",
        "\n",
        "  # Turn image. into data\n",
        "  imageData = np.array(image)\n",
        "  height, width, colorChannels = imageData.shape\n",
        "  BinaryFromImage = \"\"\n",
        "\n",
        "  # pixels loop\n",
        "  for y in range(height):\n",
        "    for x in range(width):\n",
        "      for c in range(3):\n",
        "        BinaryFromImage += str(imageData[y, x, c])\n",
        "\n",
        "  return ToText(BinaryFromImage[:BinaryFromImage.find(\"1111111111111110\")]) # Use delimeter to find and slice"
      ],
      "metadata": {
        "id": "7W61lIwWgtZt"
      },
      "execution_count": 10,
      "outputs": []
    },
    {
      "cell_type": "code",
      "source": [
        "# past image path from sidebar and text, then encode\n",
        "imagePath = \"/content/lp_image.jpeg\"\n",
        "\n",
        "text = input(\"Enter the secret to encode into the image: \")\n",
        "encoded_img = EncodeIntoImage(imagePath, text)\n",
        "encoded_img.save('secret.png')"
      ],
      "metadata": {
        "colab": {
          "base_uri": "https://localhost:8080/"
        },
        "id": "UzXqbfZLbOGP",
        "outputId": "ebac6e5a-8b30-485d-8d05-910949e84c2a"
      },
      "execution_count": 11,
      "outputs": [
        {
          "name": "stdout",
          "output_type": "stream",
          "text": [
            "Enter the secret to encode into the image: imageData[y, x, c] imageData[y, x, c] imageData[y, x, c] imageData[y, x, c] imageData[y, x, c] imageData[y, x, c] imageData[y, x, c] imageData[y, x, c] imageData[y, x, c] imageData[y, x, c] imageData[y, x, c] imageData[y, x, c] imageData[y, x, c] imageData[y, x, c] imageData[y, x, c] imageData[y, x, c] imageData[y, x, c] imageData[y, x, c] imageData[y, x, c] imageData[y, x, c] imageData[y, x, c] imageData[y, x, c] imageData[y, x, c] imageData[y, x, c] imageData[y, x, c] imageData[y, x, c] imageData[y, x, c] imageData[y, x, c] imageData[y, x, c] imageData[y, x, c] imageData[y, x, c] imageData[y, x, c] imageData[y, x, c] imageData[y, x, c] imageData[y, x, c] imageData[y, x, c] imageData[y, x, c] imageData[y, x, c] imageData[y, x, c] imageData[y, x, c] imageData[y, x, c] imageData[y, x, c] imageData[y, x, c] imageData[y, x, c] imageData[y, x, c] imageData[y, x, c] imageData[y, x, c] imageData[y, x, c] imageData[y, x, c] imageData[y, x, c] imageData[y, x, c] imageData[y, x, c] imageData[y, x, c] imageData[y, x, c] imageData[y, x, c] imageData[y, x, c] imageData[y, x, c] imageData[y, x, c] imageData[y, x, c] imageData[y, x, c] imageData[y, x, c] imageData[y, x, c] imageData[y, x, c]\n"
          ]
        }
      ]
    },
    {
      "cell_type": "code",
      "source": [
        "# Decode the image\n",
        "\n",
        "DecodeFromImage(\"/content/secret.png\")"
      ],
      "metadata": {
        "id": "y9-iJlY4lKiG",
        "colab": {
          "base_uri": "https://localhost:8080/",
          "height": 234
        },
        "outputId": "694491a2-32d3-47b1-fac5-0bdae5e171ca"
      },
      "execution_count": 12,
      "outputs": [
        {
          "output_type": "execute_result",
          "data": {
            "text/plain": [
              "'imageData[y, x, c] imageData[y, x, c] imageData[y, x, c] imageData[y, x, c] imageData[y, x, c] imageData[y, x, c] imageData[y, x, c] imageData[y, x, c] imageData[y, x, c] imageData[y, x, c] imageData[y, x, c] imageData[y, x, c] imageData[y, x, c] imageData[y, x, c] imageData[y, x, c] imageData[y, x, c] imageData[y, x, c] imageData[y, x, c] imageData[y, x, c] imageData[y, x, c] imageData[y, x, c] imageData[y, x, c] imageData[y, x, c] imageData[y, x, c] imageData[y, x, c] imageData[y, x, c] imageData[y, x, c] imageData[y, x, c] imageData[y, x, c] imageData[y, x, c] imageData[y, x, c] imageData[y, x, c] imageData[y, x, c] imageData[y, x, c] imageData[y, x, c] imageData[y, x, c] imageData[y, x, c] imageData[y, x, c] imageData[y, x, c] imageData[y, x, c] imageData[y, x, c] imageData[y, x, c] imageData[y, x, c] imageData[y, x, c] imageData[y, x, c] imageData[y, x, c] imageData[y, x, c] imageData[y, x, c] imageData[y, x, c] imageData[y, x, c] imageData[y, x, c] imageData[y, x, c] imageData[y, x, c] imageData[y, x, c] imageData[y, x, c] imageData[y, x, c] imageData[y, x, c] imageData[y, x, c] imageData[y, x, c] imageData[y, x, c] imageData[y, x, c] imageData[y, x, c] imageData[y, x, c]'"
            ],
            "application/vnd.google.colaboratory.intrinsic+json": {
              "type": "string"
            }
          },
          "metadata": {},
          "execution_count": 12
        }
      ]
    }
  ]
}