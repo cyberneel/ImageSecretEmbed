{
  "nbformat": 4,
  "nbformat_minor": 0,
  "metadata": {
    "colab": {
      "provenance": [],
      "authorship_tag": "ABX9TyMrAO01K/SlwBleCsHwfCSe",
      "include_colab_link": true
    },
    "kernelspec": {
      "name": "python3",
      "display_name": "Python 3"
    },
    "language_info": {
      "name": "python"
    }
  },
  "cells": [
    {
      "cell_type": "markdown",
      "metadata": {
        "id": "view-in-github",
        "colab_type": "text"
      },
      "source": [
        "<a href=\"https://colab.research.google.com/github/cyberneel/ImageSecretEmbed/blob/main/ImageEmbedSecret.ipynb\" target=\"_parent\"><img src=\"https://colab.research.google.com/assets/colab-badge.svg\" alt=\"Open In Colab\"/></a>"
      ]
    },
    {
      "cell_type": "markdown",
      "source": [
        "# Install Libraries"
      ],
      "metadata": {
        "id": "NuSbmnfnBvt3"
      }
    },
    {
      "cell_type": "code",
      "source": [
        "!pip install pillow numpy"
      ],
      "metadata": {
        "colab": {
          "base_uri": "https://localhost:8080/"
        },
        "id": "osEI-oVmB2Cj",
        "outputId": "b74df30a-b9de-4192-9ae6-0c26cda139da"
      },
      "execution_count": 1,
      "outputs": [
        {
          "output_type": "stream",
          "name": "stdout",
          "text": [
            "Requirement already satisfied: pillow in /usr/local/lib/python3.10/dist-packages (9.4.0)\n",
            "Requirement already satisfied: numpy in /usr/local/lib/python3.10/dist-packages (1.25.2)\n"
          ]
        }
      ]
    },
    {
      "cell_type": "markdown",
      "source": [
        "# Main Code"
      ],
      "metadata": {
        "id": "nA4YdW7_B3u1"
      }
    },
    {
      "cell_type": "code",
      "source": [
        "from PIL import Image\n",
        "import numpy as np\n",
        "import io\n",
        "from google.colab import files\n",
        "\n",
        "def ToBinary(text):\n",
        "    binary = ''.join(format(ord(char), '08b') for char in text)\n",
        "    return binary\n",
        "\n",
        "def ToText(binary):\n",
        "    characters = [binary[i:i+8] for i in range(0, len(binary), 8)]\n",
        "    textForm = ''.join([chr(int(char, 2)) for char in characters])\n",
        "    return textForm\n",
        "\n",
        "# Used to test proper conversion\n",
        "print(ToBinary(\"Hello\"))\n",
        "print(ToText(ToBinary(\"Hello\")))"
      ],
      "metadata": {
        "id": "KzdNtdXeB3UR"
      },
      "execution_count": 4,
      "outputs": []
    }
  ]
}